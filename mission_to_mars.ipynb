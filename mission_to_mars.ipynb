{
 "cells": [
  {
   "cell_type": "code",
   "execution_count": 11,
   "id": "950b463c",
   "metadata": {},
   "outputs": [],
   "source": [
    "from bs4 import BeautifulSoup as bs\n",
    "from webdriver_manager.chrome import ChromeDriverManager\n",
    "import pandas as pd\n",
    "from splinter import Browser\n",
    "import time\n",
    "from selenium import webdriver"
   ]
  },
  {
   "cell_type": "code",
   "execution_count": 12,
   "id": "43b91267",
   "metadata": {},
   "outputs": [],
   "source": [
    "from selenium.webdriver.chrome.webdriver import WebDriver\n",
    "from selenium.webdriver.chrome.options import Options\n",
    "\n",
    "chromeOptions = webdriver.ChromeOptions()\n",
    "chromeOptions.add_experimental_option(\"excludeSwitches\", ['enable-automation']);"
   ]
  },
  {
   "cell_type": "code",
   "execution_count": 13,
   "id": "42042e4f",
   "metadata": {},
   "outputs": [],
   "source": [
    "# Setup splinter\n",
    "executable_path = {'executable_path': ChromeDriverManager().install()}\n",
    "browser = Browser('chrome', **executable_path, headless=False)"
   ]
  },
  {
   "cell_type": "markdown",
   "id": "f5d840a5",
   "metadata": {},
   "source": [
    "# NASA Mars News"
   ]
  },
  {
   "cell_type": "code",
   "execution_count": 15,
   "id": "a15dc437",
   "metadata": {},
   "outputs": [
    {
     "name": "stdout",
     "output_type": "stream",
     "text": [
      " news_title = A Martian Roundtrip: NASA's Perseverance Rover Sample Tubes\n",
      " news_p = Marvels of engineering, the rover's sample tubes must be tough enough to safely bring Red Planet samples on the long journey back to Earth in immaculate condition. \n"
     ]
    }
   ],
   "source": [
    "#going on red planet science \n",
    "Nasa_url = \"https://redplanetscience.com/\"\n",
    "browser.visit(Nasa_url)\n",
    "#creating my html object and parsing with bs\n",
    "html = browser.html\n",
    "\n",
    "soup = bs(html, \"html.parser\")\n",
    "\n",
    "#title text extration\n",
    "\n",
    "                   \n",
    "latest_news_title = soup.find(\"div\", class_=\"content_title\").text\n",
    "\n",
    "print(f\" news_title = {latest_news_title}\")\n",
    "\n",
    "# paragraph extraction\n",
    "\n",
    "latest_news_paragraph = soup.find('div',class_='article_teaser_body').text\n",
    "\n",
    "print(f\" news_p = {latest_news_paragraph}\")\n",
    "\n"
   ]
  },
  {
   "cell_type": "markdown",
   "id": "7dbf7483",
   "metadata": {},
   "source": [
    "# JPL Mars Space Images --- Featured Image"
   ]
  },
  {
   "cell_type": "code",
   "execution_count": 17,
   "id": "af701f71",
   "metadata": {},
   "outputs": [
    {
     "name": "stdout",
     "output_type": "stream",
     "text": [
      " featured_image_url = https://spaceimages-mars.com/image/featured/mars1.jpg\n"
     ]
    }
   ],
   "source": [
    "#Visit the URL for the Featured Space Image site using splinter \n",
    "jpl_url = \"https://spaceimages-mars.com/\"\n",
    "browser.visit(jpl_url)\n",
    "reponse = browser.html\n",
    "soup = bs(reponse,\"html.parser\")\n",
    "#print(soup.prettify())\n",
    "\n",
    "image = soup.find(\"img\", class_=\"fade-in\")[\"src\"]\n",
    "featured_image_url = jpl_url+image\n",
    "\n",
    "print(f\" featured_image_url = {featured_image_url}\")\n"
   ]
  },
  {
   "cell_type": "markdown",
   "id": "7d7d7b06",
   "metadata": {},
   "source": [
    "# Mars Facts"
   ]
  },
  {
   "cell_type": "code",
   "execution_count": 29,
   "id": "ef126586",
   "metadata": {},
   "outputs": [
    {
     "data": {
      "text/html": [
       "<table border=\"1\" class=\"dataframe\">\n",
       "  <thead>\n",
       "    <tr style=\"text-align: right;\">\n",
       "      <th></th>\n",
       "      <th>Mars</th>\n",
       "      <th>Earth</th>\n",
       "    </tr>\n",
       "  </thead>\n",
       "  <tbody>\n",
       "    <tr>\n",
       "      <th>Diameter:</th>\n",
       "      <td>6,779 km</td>\n",
       "      <td>12,742 km</td>\n",
       "    </tr>\n",
       "    <tr>\n",
       "      <th>Mass:</th>\n",
       "      <td>6.39 × 10^23 kg</td>\n",
       "      <td>5.97 × 10^24 kg</td>\n",
       "    </tr>\n",
       "    <tr>\n",
       "      <th>Moons:</th>\n",
       "      <td>2</td>\n",
       "      <td>1</td>\n",
       "    </tr>\n",
       "    <tr>\n",
       "      <th>Distance from Sun:</th>\n",
       "      <td>227,943,824 km</td>\n",
       "      <td>149,598,262 km</td>\n",
       "    </tr>\n",
       "    <tr>\n",
       "      <th>Length of Year:</th>\n",
       "      <td>687 Earth days</td>\n",
       "      <td>365.24 days</td>\n",
       "    </tr>\n",
       "    <tr>\n",
       "      <th>Temperature:</th>\n",
       "      <td>-87 to -5 °C</td>\n",
       "      <td>-88 to 58°C</td>\n",
       "    </tr>\n",
       "  </tbody>\n",
       "</table>"
      ],
      "text/plain": [
       "<IPython.core.display.HTML object>"
      ]
     },
     "metadata": {},
     "output_type": "display_data"
    }
   ],
   "source": [
    "nasa_url= \"https://galaxyfacts-mars.com/\"\n",
    "browser.visit(nasa_url)\n",
    "#creating DataFrame to store the scraped data\n",
    "marsfacts_df = pd.read_html(nasa_url)\n",
    "#marsfacts_df\n",
    "\n",
    "#Create Dataframe to store table data\n",
    "df = marsfacts_df[0]\n",
    "df.columns = ['Mars-Earth Comparison', 'Mars', 'Earth']\n",
    "mars_df=df.drop(labels=0)\n",
    "mars_df.set_index('Mars-Earth Comparison',inplace=True)\n",
    "mars_df.index.name=None\n",
    "html_table = mars_df.to_html()\n",
    "from IPython.display import HTML\n",
    "display(HTML(html_table))\n"
   ]
  },
  {
   "cell_type": "markdown",
   "id": "4fb44462",
   "metadata": {},
   "source": [
    "# Mars Hemispheres"
   ]
  },
  {
   "cell_type": "code",
   "execution_count": 9,
   "id": "5b4e88f0",
   "metadata": {},
   "outputs": [],
   "source": [
    "#visiting the webpage\n",
    "Hemispheres_url = \"https://marshemispheres.com/\"\n",
    "browser.visit(Hemispheres_url)\n",
    "hemi_html = browser.html\n",
    "soup = bs(hemi_html, \"html.parser\")\n",
    "hem_link = soup.find_all(\"div\", class_=\"item\")\n",
    "\n",
    "#creating a list to collect the image_urls\n",
    "hemisp_image_urls = []\n",
    "\n",
    "# looping into the link to collect titles and image_url\n",
    "\n",
    "for x in hem_link:\n",
    "    \n",
    "    title = x.find(\"h3\").text\n",
    "    img_url = x.find(\"a\")[\"href\"]\n",
    "    hemi_img_url = Hemispheres_url + img_url\n",
    "    \n",
    "    browser.visit(hemi_img_url)\n",
    "    Hemip_html = browser.html\n",
    "    hemi_soup = bs(Hemip_html, \"html.parser\")\n",
    "    \n",
    "    \n",
    "    \n",
    "    hemisph_img_url =  hemi_soup.find(\"img\", class_= \"wide-image\")[\"src\"]\n",
    "    final_image_url =  Hemispheres_url+hemisph_img_url\n",
    "    \n",
    "    \n",
    "    \n",
    "    #print(final_image_url)\n",
    "    \n",
    "    #appending the titles and hemisphere_urls into the dict\n",
    "    img_data=dict({'title':title, 'img_url':final_image_url})\n",
    "    hemisp_image_urls.append(img_data)\n"
   ]
  },
  {
   "cell_type": "code",
   "execution_count": 10,
   "id": "bd2d0acb",
   "metadata": {},
   "outputs": [
    {
     "data": {
      "text/plain": [
       "[{'title': 'Cerberus Hemisphere Enhanced',\n",
       "  'img_url': 'https://marshemispheres.com/images/f5e372a36edfa389625da6d0cc25d905_cerberus_enhanced.tif_full.jpg'},\n",
       " {'title': 'Schiaparelli Hemisphere Enhanced',\n",
       "  'img_url': 'https://marshemispheres.com/images/3778f7b43bbbc89d6e3cfabb3613ba93_schiaparelli_enhanced.tif_full.jpg'},\n",
       " {'title': 'Syrtis Major Hemisphere Enhanced',\n",
       "  'img_url': 'https://marshemispheres.com/images/555e6403a6ddd7ba16ddb0e471cadcf7_syrtis_major_enhanced.tif_full.jpg'},\n",
       " {'title': 'Valles Marineris Hemisphere Enhanced',\n",
       "  'img_url': 'https://marshemispheres.com/images/b3c7c6c9138f57b4756be9b9c43e3a48_valles_marineris_enhanced.tif_full.jpg'}]"
      ]
     },
     "execution_count": 10,
     "metadata": {},
     "output_type": "execute_result"
    }
   ],
   "source": [
    "\n",
    "hemisp_image_urls"
   ]
  },
  {
   "cell_type": "code",
   "execution_count": null,
   "id": "f2f9cdf5",
   "metadata": {},
   "outputs": [],
   "source": []
  }
 ],
 "metadata": {
  "kernelspec": {
   "display_name": "PythonData",
   "language": "python",
   "name": "pythondata"
  },
  "language_info": {
   "codemirror_mode": {
    "name": "ipython",
    "version": 3
   },
   "file_extension": ".py",
   "mimetype": "text/x-python",
   "name": "python",
   "nbconvert_exporter": "python",
   "pygments_lexer": "ipython3",
   "version": "3.7.7"
  }
 },
 "nbformat": 4,
 "nbformat_minor": 5
}
