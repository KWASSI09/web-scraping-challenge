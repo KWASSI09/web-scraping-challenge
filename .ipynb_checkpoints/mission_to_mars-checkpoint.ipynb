{
 "cells": [
  {
   "cell_type": "code",
   "execution_count": 15,
   "id": "78ea10ea",
   "metadata": {},
   "outputs": [],
   "source": [
    "import os\n",
    "from splinter import Browser\n",
    "from bs4 import BeautifulSoup as bs\n",
    "from webdriver_manager.chrome import ChromeDriverManager\n",
    "import pandas as pd\n",
    "from splinter import Browser\n",
    "import time\n",
    "from selenium import webdriver"
   ]
  },
  {
   "cell_type": "code",
   "execution_count": 16,
   "id": "d72e038f",
   "metadata": {},
   "outputs": [],
   "source": [
    "# Setup splinter\n",
    "executable_path = {'executable_path': ChromeDriverManager().install()}\n",
    "browser = Browser('chrome', **executable_path, headless=False)"
   ]
  },
  {
   "cell_type": "markdown",
   "id": "c6e61b70",
   "metadata": {},
   "source": [
    "# NASA Mars News"
   ]
  },
  {
   "cell_type": "code",
   "execution_count": 20,
   "id": "5cf6f06a",
   "metadata": {},
   "outputs": [
    {
     "name": "stdout",
     "output_type": "stream",
     "text": [
      " news_title = Mars Now\n",
      "--------------------------\n",
      " news_p = The rover found that Jezero Crater’s floor is made up of volcanic rocks that have interacted with water.\n",
      "--------------------------\n",
      "Source: https://mars.nasa.gov/news/\n"
     ]
    }
   ],
   "source": [
    "#going on red planet science \n",
    "Nasa_url = \"https://mars.nasa.gov/news/\"\n",
    "browser.visit(Nasa_url)\n",
    "#creating my html object and parsing with bs\n",
    "html = browser.html\n",
    "\n",
    "soup = bs(html, \"html.parser\")\n",
    "\n",
    "#title text extration\n",
    "\n",
    "                   \n",
    "latest_news_title = soup.find(\"div\", class_=\"content_title\").text\n",
    "\n",
    "print(f\" news_title = {latest_news_title}\")\n",
    "\n",
    "# paragraph extraction\n",
    "\n",
    "latest_news_paragraph = soup.find('div',class_='article_teaser_body').text\n",
    "print(\"--------------------------\")\n",
    "print(f\" news_p = {latest_news_paragraph}\")\n",
    "print(\"--------------------------\")\n",
    "print(f'Source: {Nasa_url}')\n"
   ]
  },
  {
   "cell_type": "markdown",
   "id": "f4e565cc",
   "metadata": {},
   "source": [
    "# JPL Mars Space Images --- Featured Image"
   ]
  },
  {
   "cell_type": "code",
   "execution_count": 10,
   "id": "430e1c42",
   "metadata": {},
   "outputs": [
    {
     "name": "stdout",
     "output_type": "stream",
     "text": [
      " featured_image_url = https://spaceimages-mars.com/image/featured/mars3.jpg\n",
      "--------------------------\n",
      "Source: https://spaceimages-mars.com/\n"
     ]
    }
   ],
   "source": [
    "#Visit the URL for the Featured Space Image site using splinter \n",
    "jpl_url = \"https://spaceimages-mars.com/\"\n",
    "browser.visit(jpl_url)\n",
    "reponse = browser.html\n",
    "soup = bs(reponse,\"html.parser\")\n",
    "#print(soup.prettify())\n",
    "\n",
    "image = soup.find(\"img\", class_=\"fade-in\")[\"src\"]\n",
    "featured_image_url = jpl_url+image\n",
    "\n",
    "print(f\" featured_image_url = {featured_image_url}\")\n",
    "print(\"--------------------------\")\n",
    "print(f'Source: {jpl_url}')"
   ]
  },
  {
   "cell_type": "markdown",
   "id": "08511cf3",
   "metadata": {},
   "source": [
    "# Mars Facts"
   ]
  },
  {
   "cell_type": "code",
   "execution_count": 5,
   "id": "245c37ab",
   "metadata": {},
   "outputs": [],
   "source": [
    "#visting the mars facts webpage\n",
    "mars_facts = \"https://space-facts.com/mars/\"\n",
    "browser.visit(mars_facts)\n",
    "\n",
    "#creating DataFrame to store the scraped data\n",
    "facts_table = pd.read_html(mars_facts)\n",
    "\n",
    "mars_data_df = facts_table[0]\n",
    "mars_data_df.columns = [\"label\", \"Mars\"]\n",
    "mars_data_df.set_index(\"label\",inplace=True)\n",
    "mars_data_df.index.name=None \n",
    "#mars_data_df\n"
   ]
  },
  {
   "cell_type": "code",
   "execution_count": 6,
   "id": "105056f0",
   "metadata": {},
   "outputs": [
    {
     "data": {
      "text/html": [
       "<table border=\"1\" class=\"dataframe\">\n",
       "  <thead>\n",
       "    <tr style=\"text-align: right;\">\n",
       "      <th></th>\n",
       "      <th>Mars</th>\n",
       "    </tr>\n",
       "  </thead>\n",
       "  <tbody>\n",
       "    <tr>\n",
       "      <th>Equatorial Diameter:</th>\n",
       "      <td>6,792 km</td>\n",
       "    </tr>\n",
       "    <tr>\n",
       "      <th>Polar Diameter:</th>\n",
       "      <td>6,752 km</td>\n",
       "    </tr>\n",
       "    <tr>\n",
       "      <th>Mass:</th>\n",
       "      <td>6.39 × 10^23 kg (0.11 Earths)</td>\n",
       "    </tr>\n",
       "    <tr>\n",
       "      <th>Moons:</th>\n",
       "      <td>2 (Phobos &amp; Deimos)</td>\n",
       "    </tr>\n",
       "    <tr>\n",
       "      <th>Orbit Distance:</th>\n",
       "      <td>227,943,824 km (1.38 AU)</td>\n",
       "    </tr>\n",
       "    <tr>\n",
       "      <th>Orbit Period:</th>\n",
       "      <td>687 days (1.9 years)</td>\n",
       "    </tr>\n",
       "    <tr>\n",
       "      <th>Surface Temperature:</th>\n",
       "      <td>-87 to -5 °C</td>\n",
       "    </tr>\n",
       "    <tr>\n",
       "      <th>First Record:</th>\n",
       "      <td>2nd millennium BC</td>\n",
       "    </tr>\n",
       "    <tr>\n",
       "      <th>Recorded By:</th>\n",
       "      <td>Egyptian astronomers</td>\n",
       "    </tr>\n",
       "  </tbody>\n",
       "</table>"
      ],
      "text/plain": [
       "<IPython.core.display.HTML object>"
      ]
     },
     "metadata": {},
     "output_type": "display_data"
    },
    {
     "name": "stdout",
     "output_type": "stream",
     "text": [
      "Source: https://space-facts.com/mars/\n"
     ]
    }
   ],
   "source": [
    "#using pandas to convert the table to a html\n",
    "html_table = mars_data_df.to_html()\n",
    "from IPython.display import HTML\n",
    "display(HTML(html_table))\n",
    "print(f\"Source: {mars_facts}\")"
   ]
  },
  {
   "cell_type": "markdown",
   "id": "73bd1ab2",
   "metadata": {},
   "source": [
    "# Mars Hemispheres"
   ]
  },
  {
   "cell_type": "code",
   "execution_count": 12,
   "id": "21b01913",
   "metadata": {},
   "outputs": [
    {
     "name": "stdout",
     "output_type": "stream",
     "text": [
      "https://marshemispheres.com/images/f5e372a36edfa389625da6d0cc25d905_cerberus_enhanced.tif_full.jpg\n",
      "https://marshemispheres.com/images/3778f7b43bbbc89d6e3cfabb3613ba93_schiaparelli_enhanced.tif_full.jpg\n",
      "https://marshemispheres.com/images/555e6403a6ddd7ba16ddb0e471cadcf7_syrtis_major_enhanced.tif_full.jpg\n",
      "https://marshemispheres.com/images/b3c7c6c9138f57b4756be9b9c43e3a48_valles_marineris_enhanced.tif_full.jpg\n"
     ]
    }
   ],
   "source": [
    "#visiting the webpage\n",
    "Hemispheres_url = \"https://marshemispheres.com/\"\n",
    "browser.visit(Hemispheres_url)\n",
    "html = browser.html\n",
    "soup = bs(html, \"html.parser\")\n",
    "hem_link = soup.find_all(\"div\", class_=\"item\")\n",
    "\n",
    "#creating a list to collect the image_urls\n",
    "hemisp_image_urls = []\n",
    "\n",
    "# looping into the link to collect titles and image_url\n",
    "\n",
    "for x in hem_link:\n",
    "    \n",
    "    title = x.find(\"h3\").text\n",
    "    img_url = x.find(\"a\")[\"href\"]\n",
    "    hemi_img_url = Hemispheres_url + img_url\n",
    "    \n",
    "    browser.visit(hemi_img_url)\n",
    "    html = browser.html\n",
    "    hemi_soup = bs(html, \"html.parser\")\n",
    "    #hemis_url = soup.find(\"img\", class_= \"wide-image\")[\"src\"]\n",
    "    \n",
    "    \n",
    "    hemisph_img_url =  hemi_soup.find(\"img\", class_= \"wide-image\")[\"src\"]\n",
    "    final_image_url =  Hemispheres_url+hemisph_img_url\n",
    "    \n",
    "    \n",
    "    \n",
    "    print(final_image_url)\n",
    "    \n",
    "    #appending the titles and hemisphere_urls into the dict\n",
    "    img_data=dict({'title':title, 'img_url':final_image_url})\n",
    "    hemisp_image_urls.append(img_data)\n"
   ]
  },
  {
   "cell_type": "code",
   "execution_count": 8,
   "id": "e518904a",
   "metadata": {},
   "outputs": [
    {
     "data": {
      "text/plain": [
       "[{'title': 'Cerberus Hemisphere Enhanced',\n",
       "  'img_url': 'https://marshemispheres.com/images/f5e372a36edfa389625da6d0cc25d905_cerberus_enhanced.tif_full.jpg'},\n",
       " {'title': 'Schiaparelli Hemisphere Enhanced',\n",
       "  'img_url': 'https://marshemispheres.com/images/3778f7b43bbbc89d6e3cfabb3613ba93_schiaparelli_enhanced.tif_full.jpg'},\n",
       " {'title': 'Syrtis Major Hemisphere Enhanced',\n",
       "  'img_url': 'https://marshemispheres.com/images/555e6403a6ddd7ba16ddb0e471cadcf7_syrtis_major_enhanced.tif_full.jpg'},\n",
       " {'title': 'Valles Marineris Hemisphere Enhanced',\n",
       "  'img_url': 'https://marshemispheres.com/images/b3c7c6c9138f57b4756be9b9c43e3a48_valles_marineris_enhanced.tif_full.jpg'}]"
      ]
     },
     "execution_count": 8,
     "metadata": {},
     "output_type": "execute_result"
    }
   ],
   "source": [
    "hemisp_image_urls"
   ]
  },
  {
   "cell_type": "code",
   "execution_count": null,
   "id": "29987d63",
   "metadata": {},
   "outputs": [],
   "source": []
  }
 ],
 "metadata": {
  "kernelspec": {
   "display_name": "PythonData",
   "language": "python",
   "name": "pythondata"
  },
  "language_info": {
   "codemirror_mode": {
    "name": "ipython",
    "version": 3
   },
   "file_extension": ".py",
   "mimetype": "text/x-python",
   "name": "python",
   "nbconvert_exporter": "python",
   "pygments_lexer": "ipython3",
   "version": "3.7.7"
  }
 },
 "nbformat": 4,
 "nbformat_minor": 5
}
